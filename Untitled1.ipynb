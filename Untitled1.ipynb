{
  "nbformat": 4,
  "nbformat_minor": 0,
  "metadata": {
    "colab": {
      "provenance": [],
      "authorship_tag": "ABX9TyPgwmyL5p4rQgNQSta3Zqxg",
      "include_colab_link": true
    },
    "kernelspec": {
      "name": "python3",
      "display_name": "Python 3"
    },
    "language_info": {
      "name": "python"
    }
  },
  "cells": [
    {
      "cell_type": "markdown",
      "metadata": {
        "id": "view-in-github",
        "colab_type": "text"
      },
      "source": [
        "<a href=\"https://colab.research.google.com/github/JReis-dev/python/blob/main/Untitled1.ipynb\" target=\"_parent\"><img src=\"https://colab.research.google.com/assets/colab-badge.svg\" alt=\"Open In Colab\"/></a>"
      ]
    },
    {
      "cell_type": "code",
      "execution_count": 4,
      "metadata": {
        "id": "Nri5Ak95OhRo"
      },
      "outputs": [],
      "source": [
        "import sqlite3\n",
        "\n",
        "conn = sqlite3.connect('exemplo.db')\n",
        "\n",
        "cursor = conn.cursor()\n",
        "\n",
        "create_table = \"\"\"\n",
        "CREATE TABLE IF NOT EXISTS Produtos (\n",
        "\n",
        "    id INTEGER PRIMARY KEY,\n",
        "\n",
        "    nome TEXT NOT NULL,\n",
        "\n",
        "    preco REAL NOT NULL,\n",
        "\n",
        "    estoque INTEGER\n",
        "\n",
        ");\n",
        "\n",
        "\"\"\"\n",
        "\n",
        "cursor.execute(create_table)\n",
        "\n",
        "conn.commit()\n",
        "\n",
        "conn.close()"
      ]
    },
    {
      "cell_type": "code",
      "source": [],
      "metadata": {
        "id": "M8l-B9CUQCxo"
      },
      "execution_count": null,
      "outputs": []
    }
  ]
}